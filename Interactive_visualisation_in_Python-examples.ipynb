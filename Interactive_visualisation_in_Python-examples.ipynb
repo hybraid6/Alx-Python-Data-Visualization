{
 "cells": [
  {
   "cell_type": "markdown",
   "metadata": {
    "colab_type": "text",
    "id": "FJ70WVi-NjSV"
   },
   "source": [
    "<div align=\"center\" style=\" font-size: 80%; text-align: center; margin: 0 auto\">\n",
    "<img src=\"https://raw.githubusercontent.com/Explore-AI/Pictures/master/Python-Notebook-Banners/Examples.png\"  style=\"display: block; margin-left: auto; margin-right: auto;\";/>\n",
    "</div>\n",
    "\n",
    "# Examples: Interactive visualisation in Python \n",
    "\n",
    "© ExploreAI Academy\n",
    "\n",
    "In this train, we will focus on creating unique and interactive visualisations. We will learn how to make our code block outputs interactive for the end user.\n",
    "\n",
    "> ⚠️ **Note:** An active internet connection is needed to complete the exercises within this notebook. \n",
    "\n",
    "> ⚠️ **Note:** This exercise works best when executed in a Jupyter notebook."
   ]
  },
  {
   "cell_type": "markdown",
   "metadata": {},
   "source": [
    "## Learning objectives\n",
    "By the end of this train, you should be able to:\n",
    "* Create advanced custom visualisations in Python.\n",
    "* Create interactive visualisations in a Jupyter notebook.\n"
   ]
  },
  {
   "cell_type": "markdown",
   "metadata": {
    "colab_type": "text",
    "id": "hTEztyAvNjSh"
   },
   "source": [
    "## Introduction\n",
    "\n",
    "Sometimes we require interaction in our Jupyter notebooks rather than a PowerBI dashboard. A potential reason would be to employ more sophisticated technology to meet typical business intelligence use cases. Traditional BI tools are ideal for creating dashboards created from SQL or CSV data. However, when we try to display information created by more sophisticated logic, we often fall short.\n",
    "\n",
    "With interactive widgets in a notebook, we can leverage the full power of Python to express calculations and build visualisations while exposing \"our logic\" to the end user, allowing them to modify aspects of the visualisation. We may either add a few interactive controls and plots to notebooks or build completely functional applications and interactive dashboards. Both can be created with components from the built-in core widgets, such as `buttons`, `sliders`, and `dropdowns`, or with the rich ecosystem of custom widget libraries based on the Jupyter widgets framework, such as interactive maps with `ipyleaflet` or `2-D plots` with `bqplot`."
   ]
  },
  {
   "cell_type": "markdown",
   "metadata": {
    "colab_type": "text",
    "id": "swNz-w4xNjSl"
   },
   "source": [
    "## Getting the notebook ready\n",
    "Let's ensure we have the relevant packages installed.\n",
    "\n",
    "### Step 1: Install the relevant packages"
   ]
  },
  {
   "cell_type": "code",
   "execution_count": 1,
   "metadata": {},
   "outputs": [
    {
     "name": "stdout",
     "output_type": "stream",
     "text": [
      "Requirement already satisfied: scipy in c:\\users\\pc\\anaconda3\\lib\\site-packages (1.10.1)\n",
      "Requirement already satisfied: numpy<1.27.0,>=1.19.5 in c:\\users\\pc\\anaconda3\\lib\\site-packages (from scipy) (1.23.5)\n",
      "Note: you may need to restart the kernel to use updated packages.\n"
     ]
    }
   ],
   "source": [
    "pip install scipy"
   ]
  },
  {
   "cell_type": "code",
   "execution_count": 2,
   "metadata": {
    "collapsed": true
   },
   "outputs": [
    {
     "name": "stdout",
     "output_type": "stream",
     "text": [
      "Requirement already satisfied: ipywidgets in c:\\users\\pc\\anaconda3\\lib\\site-packages (7.6.5)\n",
      "Requirement already satisfied: ipykernel>=4.5.1 in c:\\users\\pc\\anaconda3\\lib\\site-packages (from ipywidgets) (6.19.2)\n",
      "Requirement already satisfied: ipython-genutils~=0.2.0 in c:\\users\\pc\\anaconda3\\lib\\site-packages (from ipywidgets) (0.2.0)\n",
      "Requirement already satisfied: widgetsnbextension~=3.5.0 in c:\\users\\pc\\anaconda3\\lib\\site-packages (from ipywidgets) (3.5.2)\n",
      "Requirement already satisfied: nbformat>=4.2.0 in c:\\users\\pc\\anaconda3\\lib\\site-packages (from ipywidgets) (5.7.0)\n",
      "Requirement already satisfied: jupyterlab-widgets>=1.0.0 in c:\\users\\pc\\anaconda3\\lib\\site-packages (from ipywidgets) (1.0.0)\n",
      "Requirement already satisfied: traitlets>=4.3.1 in c:\\users\\pc\\anaconda3\\lib\\site-packages (from ipywidgets) (5.7.1)\n",
      "Requirement already satisfied: ipython>=4.0.0 in c:\\users\\pc\\anaconda3\\lib\\site-packages (from ipywidgets) (8.10.0)\n",
      "Requirement already satisfied: nest-asyncio in c:\\users\\pc\\anaconda3\\lib\\site-packages (from ipykernel>=4.5.1->ipywidgets) (1.5.6)\n",
      "Requirement already satisfied: psutil in c:\\users\\pc\\anaconda3\\lib\\site-packages (from ipykernel>=4.5.1->ipywidgets) (5.9.0)\n",
      "Requirement already satisfied: comm>=0.1.1 in c:\\users\\pc\\anaconda3\\lib\\site-packages (from ipykernel>=4.5.1->ipywidgets) (0.1.2)\n",
      "Requirement already satisfied: matplotlib-inline>=0.1 in c:\\users\\pc\\anaconda3\\lib\\site-packages (from ipykernel>=4.5.1->ipywidgets) (0.1.6)\n",
      "Requirement already satisfied: packaging in c:\\users\\pc\\anaconda3\\lib\\site-packages (from ipykernel>=4.5.1->ipywidgets) (22.0)\n",
      "Requirement already satisfied: jupyter-client>=6.1.12 in c:\\users\\pc\\anaconda3\\lib\\site-packages (from ipykernel>=4.5.1->ipywidgets) (7.3.4)\n",
      "Requirement already satisfied: debugpy>=1.0 in c:\\users\\pc\\anaconda3\\lib\\site-packages (from ipykernel>=4.5.1->ipywidgets) (1.5.1)\n",
      "Requirement already satisfied: tornado>=6.1 in c:\\users\\pc\\anaconda3\\lib\\site-packages (from ipykernel>=4.5.1->ipywidgets) (6.1)\n",
      "Requirement already satisfied: pyzmq>=17 in c:\\users\\pc\\anaconda3\\lib\\site-packages (from ipykernel>=4.5.1->ipywidgets) (23.2.0)\n",
      "Requirement already satisfied: decorator in c:\\users\\pc\\anaconda3\\lib\\site-packages (from ipython>=4.0.0->ipywidgets) (5.1.1)\n",
      "Requirement already satisfied: backcall in c:\\users\\pc\\anaconda3\\lib\\site-packages (from ipython>=4.0.0->ipywidgets) (0.2.0)\n",
      "Requirement already satisfied: colorama in c:\\users\\pc\\anaconda3\\lib\\site-packages (from ipython>=4.0.0->ipywidgets) (0.4.6)\n",
      "Requirement already satisfied: jedi>=0.16 in c:\\users\\pc\\anaconda3\\lib\\site-packages (from ipython>=4.0.0->ipywidgets) (0.18.1)\n",
      "Requirement already satisfied: prompt-toolkit<3.1.0,>=3.0.30 in c:\\users\\pc\\anaconda3\\lib\\site-packages (from ipython>=4.0.0->ipywidgets) (3.0.36)\n",
      "Requirement already satisfied: pygments>=2.4.0 in c:\\users\\pc\\anaconda3\\lib\\site-packages (from ipython>=4.0.0->ipywidgets) (2.11.2)\n",
      "Requirement already satisfied: pickleshare in c:\\users\\pc\\anaconda3\\lib\\site-packages (from ipython>=4.0.0->ipywidgets) (0.7.5)\n",
      "Requirement already satisfied: stack-data in c:\\users\\pc\\anaconda3\\lib\\site-packages (from ipython>=4.0.0->ipywidgets) (0.2.0)\n",
      "Requirement already satisfied: jupyter-core in c:\\users\\pc\\anaconda3\\lib\\site-packages (from nbformat>=4.2.0->ipywidgets) (5.2.0)\n",
      "Requirement already satisfied: jsonschema>=2.6 in c:\\users\\pc\\anaconda3\\lib\\site-packages (from nbformat>=4.2.0->ipywidgets) (4.17.3)\n",
      "Requirement already satisfied: fastjsonschema in c:\\users\\pc\\anaconda3\\lib\\site-packages (from nbformat>=4.2.0->ipywidgets) (2.16.2)\n",
      "Requirement already satisfied: notebook>=4.4.1 in c:\\users\\pc\\anaconda3\\lib\\site-packages (from widgetsnbextension~=3.5.0->ipywidgets) (6.5.2)\n",
      "Requirement already satisfied: parso<0.9.0,>=0.8.0 in c:\\users\\pc\\anaconda3\\lib\\site-packages (from jedi>=0.16->ipython>=4.0.0->ipywidgets) (0.8.3)\n",
      "Requirement already satisfied: pyrsistent!=0.17.0,!=0.17.1,!=0.17.2,>=0.14.0 in c:\\users\\pc\\anaconda3\\lib\\site-packages (from jsonschema>=2.6->nbformat>=4.2.0->ipywidgets) (0.18.0)\n",
      "Requirement already satisfied: attrs>=17.4.0 in c:\\users\\pc\\anaconda3\\lib\\site-packages (from jsonschema>=2.6->nbformat>=4.2.0->ipywidgets) (22.1.0)\n",
      "Requirement already satisfied: python-dateutil>=2.8.2 in c:\\users\\pc\\anaconda3\\lib\\site-packages (from jupyter-client>=6.1.12->ipykernel>=4.5.1->ipywidgets) (2.8.2)\n",
      "Requirement already satisfied: entrypoints in c:\\users\\pc\\anaconda3\\lib\\site-packages (from jupyter-client>=6.1.12->ipykernel>=4.5.1->ipywidgets) (0.4)\n",
      "Requirement already satisfied: pywin32>=1.0 in c:\\users\\pc\\anaconda3\\lib\\site-packages (from jupyter-core->nbformat>=4.2.0->ipywidgets) (305.1)\n",
      "Requirement already satisfied: platformdirs>=2.5 in c:\\users\\pc\\anaconda3\\lib\\site-packages (from jupyter-core->nbformat>=4.2.0->ipywidgets) (2.5.2)\n",
      "Requirement already satisfied: nbconvert>=5 in c:\\users\\pc\\anaconda3\\lib\\site-packages (from notebook>=4.4.1->widgetsnbextension~=3.5.0->ipywidgets) (6.5.4)\n",
      "Requirement already satisfied: argon2-cffi in c:\\users\\pc\\anaconda3\\lib\\site-packages (from notebook>=4.4.1->widgetsnbextension~=3.5.0->ipywidgets) (21.3.0)\n",
      "Requirement already satisfied: terminado>=0.8.3 in c:\\users\\pc\\anaconda3\\lib\\site-packages (from notebook>=4.4.1->widgetsnbextension~=3.5.0->ipywidgets) (0.17.1)\n",
      "Requirement already satisfied: nbclassic>=0.4.7 in c:\\users\\pc\\anaconda3\\lib\\site-packages (from notebook>=4.4.1->widgetsnbextension~=3.5.0->ipywidgets) (0.5.2)\n",
      "Requirement already satisfied: prometheus-client in c:\\users\\pc\\anaconda3\\lib\\site-packages (from notebook>=4.4.1->widgetsnbextension~=3.5.0->ipywidgets) (0.14.1)\n",
      "Requirement already satisfied: Send2Trash>=1.8.0 in c:\\users\\pc\\anaconda3\\lib\\site-packages (from notebook>=4.4.1->widgetsnbextension~=3.5.0->ipywidgets) (1.8.0)\n",
      "Requirement already satisfied: jinja2 in c:\\users\\pc\\anaconda3\\lib\\site-packages (from notebook>=4.4.1->widgetsnbextension~=3.5.0->ipywidgets) (3.1.2)\n",
      "Requirement already satisfied: wcwidth in c:\\users\\pc\\anaconda3\\lib\\site-packages (from prompt-toolkit<3.1.0,>=3.0.30->ipython>=4.0.0->ipywidgets) (0.2.5)\n",
      "Requirement already satisfied: pure-eval in c:\\users\\pc\\anaconda3\\lib\\site-packages (from stack-data->ipython>=4.0.0->ipywidgets) (0.2.2)\n",
      "Requirement already satisfied: asttokens in c:\\users\\pc\\anaconda3\\lib\\site-packages (from stack-data->ipython>=4.0.0->ipywidgets) (2.0.5)\n",
      "Requirement already satisfied: executing in c:\\users\\pc\\anaconda3\\lib\\site-packages (from stack-data->ipython>=4.0.0->ipywidgets) (0.8.3)\n",
      "Requirement already satisfied: notebook-shim>=0.1.0 in c:\\users\\pc\\anaconda3\\lib\\site-packages (from nbclassic>=0.4.7->notebook>=4.4.1->widgetsnbextension~=3.5.0->ipywidgets) (0.2.2)\n",
      "Requirement already satisfied: jupyter-server>=1.8 in c:\\users\\pc\\anaconda3\\lib\\site-packages (from nbclassic>=0.4.7->notebook>=4.4.1->widgetsnbextension~=3.5.0->ipywidgets) (1.23.4)\n",
      "Requirement already satisfied: jupyterlab-pygments in c:\\users\\pc\\anaconda3\\lib\\site-packages (from nbconvert>=5->notebook>=4.4.1->widgetsnbextension~=3.5.0->ipywidgets) (0.1.2)\n",
      "Requirement already satisfied: lxml in c:\\users\\pc\\anaconda3\\lib\\site-packages (from nbconvert>=5->notebook>=4.4.1->widgetsnbextension~=3.5.0->ipywidgets) (4.9.1)\n",
      "Requirement already satisfied: bleach in c:\\users\\pc\\anaconda3\\lib\\site-packages (from nbconvert>=5->notebook>=4.4.1->widgetsnbextension~=3.5.0->ipywidgets) (4.1.0)\n",
      "Requirement already satisfied: pandocfilters>=1.4.1 in c:\\users\\pc\\anaconda3\\lib\\site-packages (from nbconvert>=5->notebook>=4.4.1->widgetsnbextension~=3.5.0->ipywidgets) (1.5.0)\n",
      "Requirement already satisfied: MarkupSafe>=2.0 in c:\\users\\pc\\anaconda3\\lib\\site-packages (from nbconvert>=5->notebook>=4.4.1->widgetsnbextension~=3.5.0->ipywidgets) (2.1.1)\n",
      "Requirement already satisfied: mistune<2,>=0.8.1 in c:\\users\\pc\\anaconda3\\lib\\site-packages (from nbconvert>=5->notebook>=4.4.1->widgetsnbextension~=3.5.0->ipywidgets) (0.8.4)\n",
      "Requirement already satisfied: nbclient>=0.5.0 in c:\\users\\pc\\anaconda3\\lib\\site-packages (from nbconvert>=5->notebook>=4.4.1->widgetsnbextension~=3.5.0->ipywidgets) (0.5.13)\n",
      "Requirement already satisfied: defusedxml in c:\\users\\pc\\anaconda3\\lib\\site-packages (from nbconvert>=5->notebook>=4.4.1->widgetsnbextension~=3.5.0->ipywidgets) (0.7.1)\n",
      "Requirement already satisfied: tinycss2 in c:\\users\\pc\\anaconda3\\lib\\site-packages (from nbconvert>=5->notebook>=4.4.1->widgetsnbextension~=3.5.0->ipywidgets) (1.2.1)\n",
      "Requirement already satisfied: beautifulsoup4 in c:\\users\\pc\\anaconda3\\lib\\site-packages (from nbconvert>=5->notebook>=4.4.1->widgetsnbextension~=3.5.0->ipywidgets) (4.11.1)\n",
      "Requirement already satisfied: six>=1.5 in c:\\users\\pc\\anaconda3\\lib\\site-packages (from python-dateutil>=2.8.2->jupyter-client>=6.1.12->ipykernel>=4.5.1->ipywidgets) (1.16.0)\n",
      "Requirement already satisfied: pywinpty>=1.1.0 in c:\\users\\pc\\anaconda3\\lib\\site-packages (from terminado>=0.8.3->notebook>=4.4.1->widgetsnbextension~=3.5.0->ipywidgets) (2.0.10)\n",
      "Requirement already satisfied: argon2-cffi-bindings in c:\\users\\pc\\anaconda3\\lib\\site-packages (from argon2-cffi->notebook>=4.4.1->widgetsnbextension~=3.5.0->ipywidgets) (21.2.0)\n",
      "Requirement already satisfied: websocket-client in c:\\users\\pc\\anaconda3\\lib\\site-packages (from jupyter-server>=1.8->nbclassic>=0.4.7->notebook>=4.4.1->widgetsnbextension~=3.5.0->ipywidgets) (0.58.0)\n",
      "Requirement already satisfied: anyio<4,>=3.1.0 in c:\\users\\pc\\anaconda3\\lib\\site-packages (from jupyter-server>=1.8->nbclassic>=0.4.7->notebook>=4.4.1->widgetsnbextension~=3.5.0->ipywidgets) (3.5.0)\n",
      "Requirement already satisfied: cffi>=1.0.1 in c:\\users\\pc\\anaconda3\\lib\\site-packages (from argon2-cffi-bindings->argon2-cffi->notebook>=4.4.1->widgetsnbextension~=3.5.0->ipywidgets) (1.15.1)\n",
      "Requirement already satisfied: soupsieve>1.2 in c:\\users\\pc\\anaconda3\\lib\\site-packages (from beautifulsoup4->nbconvert>=5->notebook>=4.4.1->widgetsnbextension~=3.5.0->ipywidgets) (2.3.2.post1)\n",
      "Requirement already satisfied: webencodings in c:\\users\\pc\\anaconda3\\lib\\site-packages (from bleach->nbconvert>=5->notebook>=4.4.1->widgetsnbextension~=3.5.0->ipywidgets) (0.5.1)\n",
      "Requirement already satisfied: idna>=2.8 in c:\\users\\pc\\anaconda3\\lib\\site-packages (from anyio<4,>=3.1.0->jupyter-server>=1.8->nbclassic>=0.4.7->notebook>=4.4.1->widgetsnbextension~=3.5.0->ipywidgets) (3.4)\n",
      "Requirement already satisfied: sniffio>=1.1 in c:\\users\\pc\\anaconda3\\lib\\site-packages (from anyio<4,>=3.1.0->jupyter-server>=1.8->nbclassic>=0.4.7->notebook>=4.4.1->widgetsnbextension~=3.5.0->ipywidgets) (1.2.0)\n",
      "Requirement already satisfied: pycparser in c:\\users\\pc\\anaconda3\\lib\\site-packages (from cffi>=1.0.1->argon2-cffi-bindings->argon2-cffi->notebook>=4.4.1->widgetsnbextension~=3.5.0->ipywidgets) (2.21)\n",
      "Note: you may need to restart the kernel to use updated packages.\n"
     ]
    }
   ],
   "source": [
    "pip install ipywidgets \n"
   ]
  },
  {
   "cell_type": "code",
   "execution_count": 3,
   "metadata": {
    "collapsed": true
   },
   "outputs": [
    {
     "name": "stdout",
     "output_type": "stream",
     "text": [
      "Collecting chart-studio\n",
      "  Downloading chart_studio-1.1.0-py3-none-any.whl (64 kB)\n",
      "     -------------------------------------- 64.4/64.4 kB 133.1 kB/s eta 0:00:00\n",
      "Requirement already satisfied: requests in c:\\users\\pc\\anaconda3\\lib\\site-packages (from chart-studio) (2.28.1)\n",
      "Requirement already satisfied: six in c:\\users\\pc\\anaconda3\\lib\\site-packages (from chart-studio) (1.16.0)\n",
      "Collecting retrying>=1.3.3\n",
      "  Downloading retrying-1.3.4-py3-none-any.whl (11 kB)\n",
      "Requirement already satisfied: plotly in c:\\users\\pc\\anaconda3\\lib\\site-packages (from chart-studio) (5.9.0)\n",
      "Requirement already satisfied: tenacity>=6.2.0 in c:\\users\\pc\\anaconda3\\lib\\site-packages (from plotly->chart-studio) (8.0.1)\n",
      "Requirement already satisfied: idna<4,>=2.5 in c:\\users\\pc\\anaconda3\\lib\\site-packages (from requests->chart-studio) (3.4)\n",
      "Requirement already satisfied: charset-normalizer<3,>=2 in c:\\users\\pc\\anaconda3\\lib\\site-packages (from requests->chart-studio) (2.0.4)\n",
      "Requirement already satisfied: urllib3<1.27,>=1.21.1 in c:\\users\\pc\\anaconda3\\lib\\site-packages (from requests->chart-studio) (1.26.14)\n",
      "Requirement already satisfied: certifi>=2017.4.17 in c:\\users\\pc\\anaconda3\\lib\\site-packages (from requests->chart-studio) (2023.7.22)\n",
      "Installing collected packages: retrying, chart-studio\n",
      "Successfully installed chart-studio-1.1.0 retrying-1.3.4\n",
      "Note: you may need to restart the kernel to use updated packages.\n"
     ]
    }
   ],
   "source": [
    "pip install chart-studio "
   ]
  },
  {
   "cell_type": "code",
   "execution_count": 6,
   "metadata": {
    "collapsed": true
   },
   "outputs": [
    {
     "name": "stdout",
     "output_type": "stream",
     "text": [
      "Collecting pyarrow\n",
      "  Downloading pyarrow-15.0.0-cp310-cp310-win_amd64.whl (24.8 MB)\n",
      "     ---------------------------------------- 24.8/24.8 MB 1.1 MB/s eta 0:00:00\n",
      "Requirement already satisfied: numpy<2,>=1.16.6 in c:\\users\\pc\\anaconda3\\lib\\site-packages (from pyarrow) (1.23.5)\n",
      "Installing collected packages: pyarrow\n",
      "Successfully installed pyarrow-15.0.0\n",
      "Note: you may need to restart the kernel to use updated packages.\n"
     ]
    }
   ],
   "source": [
    "pip install pyarrow "
   ]
  },
  {
   "cell_type": "code",
   "execution_count": 5,
   "metadata": {
    "collapsed": true
   },
   "outputs": [
    {
     "name": "stdout",
     "output_type": "stream",
     "text": [
      "Collecting cufflinks\n",
      "  Downloading cufflinks-0.17.3.tar.gz (81 kB)\n",
      "     -------------------------------------- 81.7/81.7 kB 240.7 kB/s eta 0:00:00\n",
      "  Preparing metadata (setup.py): started\n",
      "  Preparing metadata (setup.py): finished with status 'done'\n",
      "Requirement already satisfied: numpy>=1.9.2 in c:\\users\\pc\\anaconda3\\lib\\site-packages (from cufflinks) (1.23.5)\n",
      "Requirement already satisfied: pandas>=0.19.2 in c:\\users\\pc\\anaconda3\\lib\\site-packages (from cufflinks) (1.5.3)\n",
      "Requirement already satisfied: plotly>=4.1.1 in c:\\users\\pc\\anaconda3\\lib\\site-packages (from cufflinks) (5.9.0)\n",
      "Requirement already satisfied: six>=1.9.0 in c:\\users\\pc\\anaconda3\\lib\\site-packages (from cufflinks) (1.16.0)\n",
      "Collecting colorlover>=0.2.1\n",
      "  Downloading colorlover-0.3.0-py3-none-any.whl (8.9 kB)\n",
      "Requirement already satisfied: setuptools>=34.4.1 in c:\\users\\pc\\anaconda3\\lib\\site-packages (from cufflinks) (65.6.3)\n",
      "Requirement already satisfied: ipython>=5.3.0 in c:\\users\\pc\\anaconda3\\lib\\site-packages (from cufflinks) (8.10.0)\n",
      "Requirement already satisfied: ipywidgets>=7.0.0 in c:\\users\\pc\\anaconda3\\lib\\site-packages (from cufflinks) (7.6.5)\n",
      "Requirement already satisfied: backcall in c:\\users\\pc\\anaconda3\\lib\\site-packages (from ipython>=5.3.0->cufflinks) (0.2.0)\n",
      "Requirement already satisfied: colorama in c:\\users\\pc\\anaconda3\\lib\\site-packages (from ipython>=5.3.0->cufflinks) (0.4.6)\n",
      "Requirement already satisfied: traitlets>=5 in c:\\users\\pc\\anaconda3\\lib\\site-packages (from ipython>=5.3.0->cufflinks) (5.7.1)\n",
      "Requirement already satisfied: stack-data in c:\\users\\pc\\anaconda3\\lib\\site-packages (from ipython>=5.3.0->cufflinks) (0.2.0)\n",
      "Requirement already satisfied: decorator in c:\\users\\pc\\anaconda3\\lib\\site-packages (from ipython>=5.3.0->cufflinks) (5.1.1)\n",
      "Requirement already satisfied: jedi>=0.16 in c:\\users\\pc\\anaconda3\\lib\\site-packages (from ipython>=5.3.0->cufflinks) (0.18.1)\n",
      "Requirement already satisfied: pickleshare in c:\\users\\pc\\anaconda3\\lib\\site-packages (from ipython>=5.3.0->cufflinks) (0.7.5)\n",
      "Requirement already satisfied: pygments>=2.4.0 in c:\\users\\pc\\anaconda3\\lib\\site-packages (from ipython>=5.3.0->cufflinks) (2.11.2)\n",
      "Requirement already satisfied: prompt-toolkit<3.1.0,>=3.0.30 in c:\\users\\pc\\anaconda3\\lib\\site-packages (from ipython>=5.3.0->cufflinks) (3.0.36)\n",
      "Requirement already satisfied: matplotlib-inline in c:\\users\\pc\\anaconda3\\lib\\site-packages (from ipython>=5.3.0->cufflinks) (0.1.6)\n",
      "Requirement already satisfied: widgetsnbextension~=3.5.0 in c:\\users\\pc\\anaconda3\\lib\\site-packages (from ipywidgets>=7.0.0->cufflinks) (3.5.2)\n",
      "Requirement already satisfied: ipykernel>=4.5.1 in c:\\users\\pc\\anaconda3\\lib\\site-packages (from ipywidgets>=7.0.0->cufflinks) (6.19.2)\n",
      "Requirement already satisfied: jupyterlab-widgets>=1.0.0 in c:\\users\\pc\\anaconda3\\lib\\site-packages (from ipywidgets>=7.0.0->cufflinks) (1.0.0)\n",
      "Requirement already satisfied: nbformat>=4.2.0 in c:\\users\\pc\\anaconda3\\lib\\site-packages (from ipywidgets>=7.0.0->cufflinks) (5.7.0)\n",
      "Requirement already satisfied: ipython-genutils~=0.2.0 in c:\\users\\pc\\anaconda3\\lib\\site-packages (from ipywidgets>=7.0.0->cufflinks) (0.2.0)\n",
      "Requirement already satisfied: python-dateutil>=2.8.1 in c:\\users\\pc\\anaconda3\\lib\\site-packages (from pandas>=0.19.2->cufflinks) (2.8.2)\n",
      "Requirement already satisfied: pytz>=2020.1 in c:\\users\\pc\\anaconda3\\lib\\site-packages (from pandas>=0.19.2->cufflinks) (2022.7)\n",
      "Requirement already satisfied: tenacity>=6.2.0 in c:\\users\\pc\\anaconda3\\lib\\site-packages (from plotly>=4.1.1->cufflinks) (8.0.1)\n",
      "Requirement already satisfied: nest-asyncio in c:\\users\\pc\\anaconda3\\lib\\site-packages (from ipykernel>=4.5.1->ipywidgets>=7.0.0->cufflinks) (1.5.6)\n",
      "Requirement already satisfied: debugpy>=1.0 in c:\\users\\pc\\anaconda3\\lib\\site-packages (from ipykernel>=4.5.1->ipywidgets>=7.0.0->cufflinks) (1.5.1)\n",
      "Requirement already satisfied: psutil in c:\\users\\pc\\anaconda3\\lib\\site-packages (from ipykernel>=4.5.1->ipywidgets>=7.0.0->cufflinks) (5.9.0)\n",
      "Requirement already satisfied: pyzmq>=17 in c:\\users\\pc\\anaconda3\\lib\\site-packages (from ipykernel>=4.5.1->ipywidgets>=7.0.0->cufflinks) (23.2.0)\n",
      "Requirement already satisfied: jupyter-client>=6.1.12 in c:\\users\\pc\\anaconda3\\lib\\site-packages (from ipykernel>=4.5.1->ipywidgets>=7.0.0->cufflinks) (7.3.4)\n",
      "Requirement already satisfied: tornado>=6.1 in c:\\users\\pc\\anaconda3\\lib\\site-packages (from ipykernel>=4.5.1->ipywidgets>=7.0.0->cufflinks) (6.1)\n",
      "Requirement already satisfied: packaging in c:\\users\\pc\\anaconda3\\lib\\site-packages (from ipykernel>=4.5.1->ipywidgets>=7.0.0->cufflinks) (22.0)\n",
      "Requirement already satisfied: comm>=0.1.1 in c:\\users\\pc\\anaconda3\\lib\\site-packages (from ipykernel>=4.5.1->ipywidgets>=7.0.0->cufflinks) (0.1.2)\n",
      "Requirement already satisfied: parso<0.9.0,>=0.8.0 in c:\\users\\pc\\anaconda3\\lib\\site-packages (from jedi>=0.16->ipython>=5.3.0->cufflinks) (0.8.3)\n",
      "Requirement already satisfied: jupyter-core in c:\\users\\pc\\anaconda3\\lib\\site-packages (from nbformat>=4.2.0->ipywidgets>=7.0.0->cufflinks) (5.2.0)\n",
      "Requirement already satisfied: jsonschema>=2.6 in c:\\users\\pc\\anaconda3\\lib\\site-packages (from nbformat>=4.2.0->ipywidgets>=7.0.0->cufflinks) (4.17.3)\n",
      "Requirement already satisfied: fastjsonschema in c:\\users\\pc\\anaconda3\\lib\\site-packages (from nbformat>=4.2.0->ipywidgets>=7.0.0->cufflinks) (2.16.2)\n",
      "Requirement already satisfied: wcwidth in c:\\users\\pc\\anaconda3\\lib\\site-packages (from prompt-toolkit<3.1.0,>=3.0.30->ipython>=5.3.0->cufflinks) (0.2.5)\n",
      "Requirement already satisfied: notebook>=4.4.1 in c:\\users\\pc\\anaconda3\\lib\\site-packages (from widgetsnbextension~=3.5.0->ipywidgets>=7.0.0->cufflinks) (6.5.2)\n",
      "Requirement already satisfied: asttokens in c:\\users\\pc\\anaconda3\\lib\\site-packages (from stack-data->ipython>=5.3.0->cufflinks) (2.0.5)\n",
      "Requirement already satisfied: executing in c:\\users\\pc\\anaconda3\\lib\\site-packages (from stack-data->ipython>=5.3.0->cufflinks) (0.8.3)\n",
      "Requirement already satisfied: pure-eval in c:\\users\\pc\\anaconda3\\lib\\site-packages (from stack-data->ipython>=5.3.0->cufflinks) (0.2.2)\n",
      "Requirement already satisfied: attrs>=17.4.0 in c:\\users\\pc\\anaconda3\\lib\\site-packages (from jsonschema>=2.6->nbformat>=4.2.0->ipywidgets>=7.0.0->cufflinks) (22.1.0)\n",
      "Requirement already satisfied: pyrsistent!=0.17.0,!=0.17.1,!=0.17.2,>=0.14.0 in c:\\users\\pc\\anaconda3\\lib\\site-packages (from jsonschema>=2.6->nbformat>=4.2.0->ipywidgets>=7.0.0->cufflinks) (0.18.0)\n",
      "Requirement already satisfied: entrypoints in c:\\users\\pc\\anaconda3\\lib\\site-packages (from jupyter-client>=6.1.12->ipykernel>=4.5.1->ipywidgets>=7.0.0->cufflinks) (0.4)\n",
      "Requirement already satisfied: pywin32>=1.0 in c:\\users\\pc\\anaconda3\\lib\\site-packages (from jupyter-core->nbformat>=4.2.0->ipywidgets>=7.0.0->cufflinks) (305.1)\n",
      "Requirement already satisfied: platformdirs>=2.5 in c:\\users\\pc\\anaconda3\\lib\\site-packages (from jupyter-core->nbformat>=4.2.0->ipywidgets>=7.0.0->cufflinks) (2.5.2)\n",
      "Requirement already satisfied: jinja2 in c:\\users\\pc\\anaconda3\\lib\\site-packages (from notebook>=4.4.1->widgetsnbextension~=3.5.0->ipywidgets>=7.0.0->cufflinks) (3.1.2)\n",
      "Requirement already satisfied: terminado>=0.8.3 in c:\\users\\pc\\anaconda3\\lib\\site-packages (from notebook>=4.4.1->widgetsnbextension~=3.5.0->ipywidgets>=7.0.0->cufflinks) (0.17.1)\n",
      "Requirement already satisfied: Send2Trash>=1.8.0 in c:\\users\\pc\\anaconda3\\lib\\site-packages (from notebook>=4.4.1->widgetsnbextension~=3.5.0->ipywidgets>=7.0.0->cufflinks) (1.8.0)\n",
      "Requirement already satisfied: nbconvert>=5 in c:\\users\\pc\\anaconda3\\lib\\site-packages (from notebook>=4.4.1->widgetsnbextension~=3.5.0->ipywidgets>=7.0.0->cufflinks) (6.5.4)\n",
      "Requirement already satisfied: nbclassic>=0.4.7 in c:\\users\\pc\\anaconda3\\lib\\site-packages (from notebook>=4.4.1->widgetsnbextension~=3.5.0->ipywidgets>=7.0.0->cufflinks) (0.5.2)\n",
      "Requirement already satisfied: prometheus-client in c:\\users\\pc\\anaconda3\\lib\\site-packages (from notebook>=4.4.1->widgetsnbextension~=3.5.0->ipywidgets>=7.0.0->cufflinks) (0.14.1)\n",
      "Requirement already satisfied: argon2-cffi in c:\\users\\pc\\anaconda3\\lib\\site-packages (from notebook>=4.4.1->widgetsnbextension~=3.5.0->ipywidgets>=7.0.0->cufflinks) (21.3.0)\n",
      "Requirement already satisfied: jupyter-server>=1.8 in c:\\users\\pc\\anaconda3\\lib\\site-packages (from nbclassic>=0.4.7->notebook>=4.4.1->widgetsnbextension~=3.5.0->ipywidgets>=7.0.0->cufflinks) (1.23.4)\n",
      "Requirement already satisfied: notebook-shim>=0.1.0 in c:\\users\\pc\\anaconda3\\lib\\site-packages (from nbclassic>=0.4.7->notebook>=4.4.1->widgetsnbextension~=3.5.0->ipywidgets>=7.0.0->cufflinks) (0.2.2)\n",
      "Requirement already satisfied: defusedxml in c:\\users\\pc\\anaconda3\\lib\\site-packages (from nbconvert>=5->notebook>=4.4.1->widgetsnbextension~=3.5.0->ipywidgets>=7.0.0->cufflinks) (0.7.1)\n",
      "Requirement already satisfied: beautifulsoup4 in c:\\users\\pc\\anaconda3\\lib\\site-packages (from nbconvert>=5->notebook>=4.4.1->widgetsnbextension~=3.5.0->ipywidgets>=7.0.0->cufflinks) (4.11.1)\n",
      "Requirement already satisfied: bleach in c:\\users\\pc\\anaconda3\\lib\\site-packages (from nbconvert>=5->notebook>=4.4.1->widgetsnbextension~=3.5.0->ipywidgets>=7.0.0->cufflinks) (4.1.0)\n",
      "Requirement already satisfied: tinycss2 in c:\\users\\pc\\anaconda3\\lib\\site-packages (from nbconvert>=5->notebook>=4.4.1->widgetsnbextension~=3.5.0->ipywidgets>=7.0.0->cufflinks) (1.2.1)\n",
      "Requirement already satisfied: pandocfilters>=1.4.1 in c:\\users\\pc\\anaconda3\\lib\\site-packages (from nbconvert>=5->notebook>=4.4.1->widgetsnbextension~=3.5.0->ipywidgets>=7.0.0->cufflinks) (1.5.0)\n",
      "Requirement already satisfied: jupyterlab-pygments in c:\\users\\pc\\anaconda3\\lib\\site-packages (from nbconvert>=5->notebook>=4.4.1->widgetsnbextension~=3.5.0->ipywidgets>=7.0.0->cufflinks) (0.1.2)\n",
      "Requirement already satisfied: lxml in c:\\users\\pc\\anaconda3\\lib\\site-packages (from nbconvert>=5->notebook>=4.4.1->widgetsnbextension~=3.5.0->ipywidgets>=7.0.0->cufflinks) (4.9.1)\n",
      "Requirement already satisfied: mistune<2,>=0.8.1 in c:\\users\\pc\\anaconda3\\lib\\site-packages (from nbconvert>=5->notebook>=4.4.1->widgetsnbextension~=3.5.0->ipywidgets>=7.0.0->cufflinks) (0.8.4)\n",
      "Requirement already satisfied: nbclient>=0.5.0 in c:\\users\\pc\\anaconda3\\lib\\site-packages (from nbconvert>=5->notebook>=4.4.1->widgetsnbextension~=3.5.0->ipywidgets>=7.0.0->cufflinks) (0.5.13)\n",
      "Requirement already satisfied: MarkupSafe>=2.0 in c:\\users\\pc\\anaconda3\\lib\\site-packages (from nbconvert>=5->notebook>=4.4.1->widgetsnbextension~=3.5.0->ipywidgets>=7.0.0->cufflinks) (2.1.1)\n",
      "Requirement already satisfied: pywinpty>=1.1.0 in c:\\users\\pc\\anaconda3\\lib\\site-packages (from terminado>=0.8.3->notebook>=4.4.1->widgetsnbextension~=3.5.0->ipywidgets>=7.0.0->cufflinks) (2.0.10)\n",
      "Requirement already satisfied: argon2-cffi-bindings in c:\\users\\pc\\anaconda3\\lib\\site-packages (from argon2-cffi->notebook>=4.4.1->widgetsnbextension~=3.5.0->ipywidgets>=7.0.0->cufflinks) (21.2.0)\n",
      "Requirement already satisfied: websocket-client in c:\\users\\pc\\anaconda3\\lib\\site-packages (from jupyter-server>=1.8->nbclassic>=0.4.7->notebook>=4.4.1->widgetsnbextension~=3.5.0->ipywidgets>=7.0.0->cufflinks) (0.58.0)\n",
      "Requirement already satisfied: anyio<4,>=3.1.0 in c:\\users\\pc\\anaconda3\\lib\\site-packages (from jupyter-server>=1.8->nbclassic>=0.4.7->notebook>=4.4.1->widgetsnbextension~=3.5.0->ipywidgets>=7.0.0->cufflinks) (3.5.0)\n",
      "Requirement already satisfied: cffi>=1.0.1 in c:\\users\\pc\\anaconda3\\lib\\site-packages (from argon2-cffi-bindings->argon2-cffi->notebook>=4.4.1->widgetsnbextension~=3.5.0->ipywidgets>=7.0.0->cufflinks) (1.15.1)\n",
      "Requirement already satisfied: soupsieve>1.2 in c:\\users\\pc\\anaconda3\\lib\\site-packages (from beautifulsoup4->nbconvert>=5->notebook>=4.4.1->widgetsnbextension~=3.5.0->ipywidgets>=7.0.0->cufflinks) (2.3.2.post1)\n",
      "Requirement already satisfied: webencodings in c:\\users\\pc\\anaconda3\\lib\\site-packages (from bleach->nbconvert>=5->notebook>=4.4.1->widgetsnbextension~=3.5.0->ipywidgets>=7.0.0->cufflinks) (0.5.1)\n",
      "Requirement already satisfied: idna>=2.8 in c:\\users\\pc\\anaconda3\\lib\\site-packages (from anyio<4,>=3.1.0->jupyter-server>=1.8->nbclassic>=0.4.7->notebook>=4.4.1->widgetsnbextension~=3.5.0->ipywidgets>=7.0.0->cufflinks) (3.4)\n",
      "Requirement already satisfied: sniffio>=1.1 in c:\\users\\pc\\anaconda3\\lib\\site-packages (from anyio<4,>=3.1.0->jupyter-server>=1.8->nbclassic>=0.4.7->notebook>=4.4.1->widgetsnbextension~=3.5.0->ipywidgets>=7.0.0->cufflinks) (1.2.0)\n",
      "Requirement already satisfied: pycparser in c:\\users\\pc\\anaconda3\\lib\\site-packages (from cffi>=1.0.1->argon2-cffi-bindings->argon2-cffi->notebook>=4.4.1->widgetsnbextension~=3.5.0->ipywidgets>=7.0.0->cufflinks) (2.21)\n",
      "Building wheels for collected packages: cufflinks\n",
      "  Building wheel for cufflinks (setup.py): started\n",
      "  Building wheel for cufflinks (setup.py): finished with status 'done'\n",
      "  Created wheel for cufflinks: filename=cufflinks-0.17.3-py3-none-any.whl size=68725 sha256=d01dac6dff221e05e489d7f3a10177a27a0079df6ad357433760992711045d0c\n",
      "  Stored in directory: c:\\users\\pc\\appdata\\local\\pip\\cache\\wheels\\b1\\8f\\ec\\b76ac80a14f3f5f59643cbc2eee7d78690b1bd158279f299dd\n",
      "Successfully built cufflinks\n",
      "Installing collected packages: colorlover, cufflinks\n",
      "Successfully installed colorlover-0.3.0 cufflinks-0.17.3\n",
      "Note: you may need to restart the kernel to use updated packages.\n"
     ]
    },
    {
     "name": "stderr",
     "output_type": "stream",
     "text": [
      "WARNING: Retrying (Retry(total=4, connect=None, read=None, redirect=None, status=None)) after connection broken by 'NewConnectionError('<pip._vendor.urllib3.connection.HTTPSConnection object at 0x000001EB8E72AEC0>: Failed to establish a new connection: [Errno 11001] getaddrinfo failed')': /simple/cufflinks/\n",
      "WARNING: Retrying (Retry(total=3, connect=None, read=None, redirect=None, status=None)) after connection broken by 'NewConnectionError('<pip._vendor.urllib3.connection.HTTPSConnection object at 0x000001EB8E72B1C0>: Failed to establish a new connection: [Errno 11001] getaddrinfo failed')': /simple/cufflinks/\n"
     ]
    }
   ],
   "source": [
    "pip install cufflinks"
   ]
  },
  {
   "cell_type": "markdown",
   "metadata": {
    "colab_type": "text",
    "id": "NQVmxuCeNjS2"
   },
   "source": [
    "### Step 2: Enable interactive visualisations in Jupyter"
   ]
  },
  {
   "cell_type": "code",
   "execution_count": 7,
   "metadata": {
    "colab": {
     "base_uri": "https://localhost:8080/",
     "height": 53
    },
    "colab_type": "code",
    "executionInfo": {
     "elapsed": 33307,
     "status": "ok",
     "timestamp": 1574753234479,
     "user": {
      "displayName": "Jonathan Botha",
      "photoUrl": "",
      "userId": "05591136402895135214"
     },
     "user_tz": -120
    },
    "id": "-jAPU3kHNjS6",
    "outputId": "a259eb5f-dd7f-4893-b607-4dd00957e2a2"
   },
   "outputs": [
    {
     "name": "stderr",
     "output_type": "stream",
     "text": [
      "Enabling notebook extension jupyter-js-widgets/extension...\n",
      "      - Validating: ok\n"
     ]
    }
   ],
   "source": [
    "!jupyter nbextension enable --py widgetsnbextension"
   ]
  },
  {
   "cell_type": "markdown",
   "metadata": {
    "colab_type": "text",
    "id": "4ngYm3JQNjTD"
   },
   "source": [
    "### Step 3: Import the required packages"
   ]
  },
  {
   "cell_type": "code",
   "execution_count": 8,
   "metadata": {
    "colab": {
     "base_uri": "https://localhost:8080/",
     "height": 17
    },
    "colab_type": "code",
    "executionInfo": {
     "elapsed": 35841,
     "status": "ok",
     "timestamp": 1574753237023,
     "user": {
      "displayName": "Jonathan Botha",
      "photoUrl": "",
      "userId": "05591136402895135214"
     },
     "user_tz": -120
    },
    "id": "nqU_FtjhNjTF",
    "outputId": "af2407a6-ebd0-41de-bb12-3a018b933aac"
   },
   "outputs": [
    {
     "data": {
      "text/html": [
       "        <script type=\"text/javascript\">\n",
       "        window.PlotlyConfig = {MathJaxConfig: 'local'};\n",
       "        if (window.MathJax && window.MathJax.Hub && window.MathJax.Hub.Config) {window.MathJax.Hub.Config({SVG: {font: \"STIX-Web\"}});}\n",
       "        if (typeof require !== 'undefined') {\n",
       "        require.undef(\"plotly\");\n",
       "        requirejs.config({\n",
       "            paths: {\n",
       "                'plotly': ['https://cdn.plot.ly/plotly-2.12.1.min']\n",
       "            }\n",
       "        });\n",
       "        require(['plotly'], function(Plotly) {\n",
       "            window._Plotly = Plotly;\n",
       "        });\n",
       "        }\n",
       "        </script>\n",
       "        "
      ]
     },
     "metadata": {},
     "output_type": "display_data"
    },
    {
     "data": {
      "text/html": [
       "        <script type=\"text/javascript\">\n",
       "        window.PlotlyConfig = {MathJaxConfig: 'local'};\n",
       "        if (window.MathJax && window.MathJax.Hub && window.MathJax.Hub.Config) {window.MathJax.Hub.Config({SVG: {font: \"STIX-Web\"}});}\n",
       "        if (typeof require !== 'undefined') {\n",
       "        require.undef(\"plotly\");\n",
       "        requirejs.config({\n",
       "            paths: {\n",
       "                'plotly': ['https://cdn.plot.ly/plotly-2.12.1.min']\n",
       "            }\n",
       "        });\n",
       "        require(['plotly'], function(Plotly) {\n",
       "            window._Plotly = Plotly;\n",
       "        });\n",
       "        }\n",
       "        </script>\n",
       "        "
      ]
     },
     "metadata": {},
     "output_type": "display_data"
    }
   ],
   "source": [
    "# Standard data science helpers\n",
    "import numpy as np\n",
    "import pandas as pd\n",
    "import scipy\n",
    "\n",
    "# Instantiate the Plotly charting library.\n",
    "import chart_studio.plotly as py\n",
    "import plotly.graph_objs as go\n",
    "import plotly.express as px\n",
    "# We use plotly.offline as this allows us to create interactive \n",
    "# visualisations without the use of an internet connection, \n",
    "# making our notebook more distributable to others. \n",
    "from plotly.offline import iplot, init_notebook_mode\n",
    "init_notebook_mode(connected=True)\n",
    "\n",
    "# The Cufflinks library allows us to directly bind \n",
    "# Pandas DataFrames to Plotly charts. \n",
    "import cufflinks as cf\n",
    "# Once again, we use the Cufflinks library in offline mode. \n",
    "cf.go_offline(connected=True)\n",
    "cf.set_config_file(colorscale='plotly', world_readable=True)\n",
    "\n",
    "# Extra options. We use these to make our interactive \n",
    "# visualisations more aesthetically appealing. \n",
    "from IPython.core.display import HTML\n",
    "pd.options.display.max_rows = 30\n",
    "pd.options.display.max_columns = 25\n",
    "\n",
    "# Show all code cells outputs.\n",
    "from IPython.core.interactiveshell import InteractiveShell\n",
    "InteractiveShell.ast_node_interactivity = 'all'"
   ]
  },
  {
   "cell_type": "markdown",
   "metadata": {
    "colab_type": "text",
    "id": "Cqc5MtRRNjTR"
   },
   "source": [
    "### Step 4: Read in the data"
   ]
  },
  {
   "cell_type": "markdown",
   "metadata": {
    "colab_type": "text",
    "id": "I37DIgd5NjTT"
   },
   "source": [
    "For this project, we'll work with some stats data from `medium.com`."
   ]
  },
  {
   "cell_type": "code",
   "execution_count": 9,
   "metadata": {
    "colab": {
     "base_uri": "https://localhost:8080/",
     "height": 608
    },
    "colab_type": "code",
    "executionInfo": {
     "elapsed": 38180,
     "status": "ok",
     "timestamp": 1574753239371,
     "user": {
      "displayName": "Jonathan Botha",
      "photoUrl": "",
      "userId": "05591136402895135214"
     },
     "user_tz": -120
    },
    "id": "xXI8yjCNNjTX",
    "outputId": "3290b505-c197-40d2-fc15-fce1b0351b8e"
   },
   "outputs": [
    {
     "data": {
      "text/html": [
       "<div>\n",
       "<style scoped>\n",
       "    .dataframe tbody tr th:only-of-type {\n",
       "        vertical-align: middle;\n",
       "    }\n",
       "\n",
       "    .dataframe tbody tr th {\n",
       "        vertical-align: top;\n",
       "    }\n",
       "\n",
       "    .dataframe thead th {\n",
       "        text-align: right;\n",
       "    }\n",
       "</style>\n",
       "<table border=\"1\" class=\"dataframe\">\n",
       "  <thead>\n",
       "    <tr style=\"text-align: right;\">\n",
       "      <th></th>\n",
       "      <th>claps</th>\n",
       "      <th>days_since_publication</th>\n",
       "      <th>fans</th>\n",
       "      <th>link</th>\n",
       "      <th>num_responses</th>\n",
       "      <th>publication</th>\n",
       "      <th>published_date</th>\n",
       "      <th>read_ratio</th>\n",
       "      <th>read_time</th>\n",
       "      <th>reads</th>\n",
       "      <th>started_date</th>\n",
       "      <th>tags</th>\n",
       "      <th>text</th>\n",
       "      <th>title</th>\n",
       "      <th>title_word_count</th>\n",
       "      <th>type</th>\n",
       "      <th>views</th>\n",
       "      <th>word_count</th>\n",
       "      <th>claps_per_word</th>\n",
       "      <th>editing_days</th>\n",
       "      <th>&lt;tag&gt;Education</th>\n",
       "      <th>&lt;tag&gt;Data Science</th>\n",
       "      <th>&lt;tag&gt;Towards Data Science</th>\n",
       "      <th>&lt;tag&gt;Machine Learning</th>\n",
       "      <th>&lt;tag&gt;Python</th>\n",
       "    </tr>\n",
       "  </thead>\n",
       "  <tbody>\n",
       "    <tr>\n",
       "      <th>129</th>\n",
       "      <td>2</td>\n",
       "      <td>597.301123</td>\n",
       "      <td>2</td>\n",
       "      <td>https://medium.com/p/screw-the-environment-but...</td>\n",
       "      <td>0</td>\n",
       "      <td>None</td>\n",
       "      <td>2017-06-10 14:25:00</td>\n",
       "      <td>42.17</td>\n",
       "      <td>7</td>\n",
       "      <td>70</td>\n",
       "      <td>2017-06-10 14:24:00</td>\n",
       "      <td>[Climate Change, Economics]</td>\n",
       "      <td>Screw the Environment, but Consider Your Walle...</td>\n",
       "      <td>Screw the Environment, but Consider Your Wallet</td>\n",
       "      <td>8</td>\n",
       "      <td>published</td>\n",
       "      <td>166</td>\n",
       "      <td>1859</td>\n",
       "      <td>0.001076</td>\n",
       "      <td>0</td>\n",
       "      <td>0</td>\n",
       "      <td>0</td>\n",
       "      <td>0</td>\n",
       "      <td>0</td>\n",
       "      <td>0</td>\n",
       "    </tr>\n",
       "    <tr>\n",
       "      <th>125</th>\n",
       "      <td>18</td>\n",
       "      <td>589.983168</td>\n",
       "      <td>3</td>\n",
       "      <td>https://medium.com/p/the-vanquishing-of-war-pl...</td>\n",
       "      <td>0</td>\n",
       "      <td>None</td>\n",
       "      <td>2017-06-17 22:02:00</td>\n",
       "      <td>30.34</td>\n",
       "      <td>14</td>\n",
       "      <td>54</td>\n",
       "      <td>2017-06-17 22:02:00</td>\n",
       "      <td>[Climate Change, Humanity, Optimism, History]</td>\n",
       "      <td>The Vanquishing of War, Plague and Famine Part...</td>\n",
       "      <td>The Vanquishing of War, Plague and Famine</td>\n",
       "      <td>8</td>\n",
       "      <td>published</td>\n",
       "      <td>178</td>\n",
       "      <td>3891</td>\n",
       "      <td>0.004626</td>\n",
       "      <td>0</td>\n",
       "      <td>0</td>\n",
       "      <td>0</td>\n",
       "      <td>0</td>\n",
       "      <td>0</td>\n",
       "      <td>0</td>\n",
       "    </tr>\n",
       "    <tr>\n",
       "      <th>132</th>\n",
       "      <td>51</td>\n",
       "      <td>577.363292</td>\n",
       "      <td>20</td>\n",
       "      <td>https://medium.com/p/capstone-project-mercedes...</td>\n",
       "      <td>0</td>\n",
       "      <td>None</td>\n",
       "      <td>2017-06-30 12:55:00</td>\n",
       "      <td>20.02</td>\n",
       "      <td>42</td>\n",
       "      <td>222</td>\n",
       "      <td>2017-06-30 12:00:00</td>\n",
       "      <td>[Machine Learning, Python, Udacity, Kaggle]</td>\n",
       "      <td>Capstone Project: Mercedes-Benz Greener Manufa...</td>\n",
       "      <td>Capstone Project: Mercedes-Benz Greener Manufa...</td>\n",
       "      <td>7</td>\n",
       "      <td>published</td>\n",
       "      <td>1109</td>\n",
       "      <td>12025</td>\n",
       "      <td>0.004241</td>\n",
       "      <td>0</td>\n",
       "      <td>0</td>\n",
       "      <td>0</td>\n",
       "      <td>0</td>\n",
       "      <td>1</td>\n",
       "      <td>1</td>\n",
       "    </tr>\n",
       "    <tr>\n",
       "      <th>126</th>\n",
       "      <td>0</td>\n",
       "      <td>576.520688</td>\n",
       "      <td>0</td>\n",
       "      <td>https://medium.com/p/home-of-the-scared-5af0fe...</td>\n",
       "      <td>0</td>\n",
       "      <td>None</td>\n",
       "      <td>2017-07-01 09:08:00</td>\n",
       "      <td>35.85</td>\n",
       "      <td>9</td>\n",
       "      <td>19</td>\n",
       "      <td>2017-06-30 18:21:00</td>\n",
       "      <td>[Politics, Books, News, Media Criticism]</td>\n",
       "      <td>Home of the Scared A review of A Culture of Fe...</td>\n",
       "      <td>Home of the Scared</td>\n",
       "      <td>4</td>\n",
       "      <td>published</td>\n",
       "      <td>53</td>\n",
       "      <td>2533</td>\n",
       "      <td>0.000000</td>\n",
       "      <td>0</td>\n",
       "      <td>0</td>\n",
       "      <td>0</td>\n",
       "      <td>0</td>\n",
       "      <td>0</td>\n",
       "      <td>0</td>\n",
       "    </tr>\n",
       "    <tr>\n",
       "      <th>121</th>\n",
       "      <td>0</td>\n",
       "      <td>572.533035</td>\n",
       "      <td>0</td>\n",
       "      <td>https://medium.com/p/the-triumph-of-peace-f485...</td>\n",
       "      <td>0</td>\n",
       "      <td>None</td>\n",
       "      <td>2017-07-05 08:51:00</td>\n",
       "      <td>8.47</td>\n",
       "      <td>14</td>\n",
       "      <td>5</td>\n",
       "      <td>2017-07-03 20:18:00</td>\n",
       "      <td>[Books, Psychology, History, Humanism]</td>\n",
       "      <td>The Triumph of Peace A review of The Better An...</td>\n",
       "      <td>The Triumph of Peace</td>\n",
       "      <td>4</td>\n",
       "      <td>published</td>\n",
       "      <td>59</td>\n",
       "      <td>3892</td>\n",
       "      <td>0.000000</td>\n",
       "      <td>1</td>\n",
       "      <td>0</td>\n",
       "      <td>0</td>\n",
       "      <td>0</td>\n",
       "      <td>0</td>\n",
       "      <td>0</td>\n",
       "    </tr>\n",
       "  </tbody>\n",
       "</table>\n",
       "</div>"
      ],
      "text/plain": [
       "     claps  days_since_publication  fans  \\\n",
       "129      2              597.301123     2   \n",
       "125     18              589.983168     3   \n",
       "132     51              577.363292    20   \n",
       "126      0              576.520688     0   \n",
       "121      0              572.533035     0   \n",
       "\n",
       "                                                  link  num_responses  \\\n",
       "129  https://medium.com/p/screw-the-environment-but...              0   \n",
       "125  https://medium.com/p/the-vanquishing-of-war-pl...              0   \n",
       "132  https://medium.com/p/capstone-project-mercedes...              0   \n",
       "126  https://medium.com/p/home-of-the-scared-5af0fe...              0   \n",
       "121  https://medium.com/p/the-triumph-of-peace-f485...              0   \n",
       "\n",
       "    publication      published_date  read_ratio  read_time  reads  \\\n",
       "129        None 2017-06-10 14:25:00       42.17          7     70   \n",
       "125        None 2017-06-17 22:02:00       30.34         14     54   \n",
       "132        None 2017-06-30 12:55:00       20.02         42    222   \n",
       "126        None 2017-07-01 09:08:00       35.85          9     19   \n",
       "121        None 2017-07-05 08:51:00        8.47         14      5   \n",
       "\n",
       "           started_date                                           tags  \\\n",
       "129 2017-06-10 14:24:00                    [Climate Change, Economics]   \n",
       "125 2017-06-17 22:02:00  [Climate Change, Humanity, Optimism, History]   \n",
       "132 2017-06-30 12:00:00    [Machine Learning, Python, Udacity, Kaggle]   \n",
       "126 2017-06-30 18:21:00       [Politics, Books, News, Media Criticism]   \n",
       "121 2017-07-03 20:18:00         [Books, Psychology, History, Humanism]   \n",
       "\n",
       "                                                  text  \\\n",
       "129  Screw the Environment, but Consider Your Walle...   \n",
       "125  The Vanquishing of War, Plague and Famine Part...   \n",
       "132  Capstone Project: Mercedes-Benz Greener Manufa...   \n",
       "126  Home of the Scared A review of A Culture of Fe...   \n",
       "121  The Triumph of Peace A review of The Better An...   \n",
       "\n",
       "                                                 title  title_word_count  \\\n",
       "129    Screw the Environment, but Consider Your Wallet                 8   \n",
       "125          The Vanquishing of War, Plague and Famine                 8   \n",
       "132  Capstone Project: Mercedes-Benz Greener Manufa...                 7   \n",
       "126                                 Home of the Scared                 4   \n",
       "121                               The Triumph of Peace                 4   \n",
       "\n",
       "          type  views  word_count  claps_per_word  editing_days  \\\n",
       "129  published    166        1859        0.001076             0   \n",
       "125  published    178        3891        0.004626             0   \n",
       "132  published   1109       12025        0.004241             0   \n",
       "126  published     53        2533        0.000000             0   \n",
       "121  published     59        3892        0.000000             1   \n",
       "\n",
       "     <tag>Education  <tag>Data Science  <tag>Towards Data Science  \\\n",
       "129               0                  0                          0   \n",
       "125               0                  0                          0   \n",
       "132               0                  0                          0   \n",
       "126               0                  0                          0   \n",
       "121               0                  0                          0   \n",
       "\n",
       "     <tag>Machine Learning  <tag>Python  \n",
       "129                      0            0  \n",
       "125                      0            0  \n",
       "132                      1            1  \n",
       "126                      0            0  \n",
       "121                      0            0  "
      ]
     },
     "execution_count": 9,
     "metadata": {},
     "output_type": "execute_result"
    }
   ],
   "source": [
    "df = pd.read_parquet('https://github.com/WillKoehrsen/Data-Analysis/blob/master/medium/data/medium_data_2019_01_26?raw=true')\n",
    "df.head()"
   ]
  },
  {
   "cell_type": "markdown",
   "metadata": {},
   "source": [
    "Let's have a quick descriptive look at the data we've just pulled: "
   ]
  },
  {
   "cell_type": "code",
   "execution_count": 10,
   "metadata": {
    "colab": {
     "base_uri": "https://localhost:8080/",
     "height": 337
    },
    "colab_type": "code",
    "executionInfo": {
     "elapsed": 38174,
     "status": "ok",
     "timestamp": 1574753239373,
     "user": {
      "displayName": "Jonathan Botha",
      "photoUrl": "",
      "userId": "05591136402895135214"
     },
     "user_tz": -120
    },
    "id": "Zi9VnROCNjTd",
    "outputId": "44d3f941-9b39-482d-95c9-95f96edde35b",
    "scrolled": true
   },
   "outputs": [
    {
     "data": {
      "text/html": [
       "<div>\n",
       "<style scoped>\n",
       "    .dataframe tbody tr th:only-of-type {\n",
       "        vertical-align: middle;\n",
       "    }\n",
       "\n",
       "    .dataframe tbody tr th {\n",
       "        vertical-align: top;\n",
       "    }\n",
       "\n",
       "    .dataframe thead th {\n",
       "        text-align: right;\n",
       "    }\n",
       "</style>\n",
       "<table border=\"1\" class=\"dataframe\">\n",
       "  <thead>\n",
       "    <tr style=\"text-align: right;\">\n",
       "      <th></th>\n",
       "      <th>claps</th>\n",
       "      <th>days_since_publication</th>\n",
       "      <th>fans</th>\n",
       "      <th>num_responses</th>\n",
       "      <th>read_ratio</th>\n",
       "      <th>read_time</th>\n",
       "      <th>reads</th>\n",
       "      <th>title_word_count</th>\n",
       "      <th>views</th>\n",
       "      <th>word_count</th>\n",
       "      <th>claps_per_word</th>\n",
       "      <th>editing_days</th>\n",
       "      <th>&lt;tag&gt;Education</th>\n",
       "      <th>&lt;tag&gt;Data Science</th>\n",
       "      <th>&lt;tag&gt;Towards Data Science</th>\n",
       "      <th>&lt;tag&gt;Machine Learning</th>\n",
       "      <th>&lt;tag&gt;Python</th>\n",
       "    </tr>\n",
       "  </thead>\n",
       "  <tbody>\n",
       "    <tr>\n",
       "      <th>count</th>\n",
       "      <td>133.000000</td>\n",
       "      <td>133.000000</td>\n",
       "      <td>133.000000</td>\n",
       "      <td>133.000000</td>\n",
       "      <td>133.000000</td>\n",
       "      <td>133.000000</td>\n",
       "      <td>133.000000</td>\n",
       "      <td>133.000000</td>\n",
       "      <td>133.000000</td>\n",
       "      <td>133.000000</td>\n",
       "      <td>133.000000</td>\n",
       "      <td>133.000000</td>\n",
       "      <td>133.000000</td>\n",
       "      <td>133.000000</td>\n",
       "      <td>133.000000</td>\n",
       "      <td>133.000000</td>\n",
       "      <td>133.000000</td>\n",
       "    </tr>\n",
       "    <tr>\n",
       "      <th>mean</th>\n",
       "      <td>1815.263158</td>\n",
       "      <td>248.407273</td>\n",
       "      <td>352.052632</td>\n",
       "      <td>7.045113</td>\n",
       "      <td>29.074662</td>\n",
       "      <td>12.917293</td>\n",
       "      <td>6336.300752</td>\n",
       "      <td>7.127820</td>\n",
       "      <td>23404.030075</td>\n",
       "      <td>3029.120301</td>\n",
       "      <td>0.957638</td>\n",
       "      <td>20.330827</td>\n",
       "      <td>0.729323</td>\n",
       "      <td>0.609023</td>\n",
       "      <td>0.436090</td>\n",
       "      <td>0.383459</td>\n",
       "      <td>0.315789</td>\n",
       "    </tr>\n",
       "    <tr>\n",
       "      <th>std</th>\n",
       "      <td>2449.074661</td>\n",
       "      <td>179.370879</td>\n",
       "      <td>479.060117</td>\n",
       "      <td>9.056108</td>\n",
       "      <td>12.417670</td>\n",
       "      <td>9.510795</td>\n",
       "      <td>9007.284726</td>\n",
       "      <td>3.158475</td>\n",
       "      <td>33995.636496</td>\n",
       "      <td>2393.414456</td>\n",
       "      <td>1.846756</td>\n",
       "      <td>74.111579</td>\n",
       "      <td>0.445989</td>\n",
       "      <td>0.489814</td>\n",
       "      <td>0.497774</td>\n",
       "      <td>0.488067</td>\n",
       "      <td>0.466587</td>\n",
       "    </tr>\n",
       "    <tr>\n",
       "      <th>min</th>\n",
       "      <td>0.000000</td>\n",
       "      <td>1.218629</td>\n",
       "      <td>0.000000</td>\n",
       "      <td>0.000000</td>\n",
       "      <td>8.110000</td>\n",
       "      <td>1.000000</td>\n",
       "      <td>1.000000</td>\n",
       "      <td>2.000000</td>\n",
       "      <td>3.000000</td>\n",
       "      <td>163.000000</td>\n",
       "      <td>0.000000</td>\n",
       "      <td>-13.000000</td>\n",
       "      <td>0.000000</td>\n",
       "      <td>0.000000</td>\n",
       "      <td>0.000000</td>\n",
       "      <td>0.000000</td>\n",
       "      <td>0.000000</td>\n",
       "    </tr>\n",
       "    <tr>\n",
       "      <th>25%</th>\n",
       "      <td>121.000000</td>\n",
       "      <td>74.543822</td>\n",
       "      <td>23.000000</td>\n",
       "      <td>0.000000</td>\n",
       "      <td>20.020000</td>\n",
       "      <td>8.000000</td>\n",
       "      <td>363.000000</td>\n",
       "      <td>5.000000</td>\n",
       "      <td>1375.000000</td>\n",
       "      <td>1653.000000</td>\n",
       "      <td>0.052115</td>\n",
       "      <td>0.000000</td>\n",
       "      <td>0.000000</td>\n",
       "      <td>0.000000</td>\n",
       "      <td>0.000000</td>\n",
       "      <td>0.000000</td>\n",
       "      <td>0.000000</td>\n",
       "    </tr>\n",
       "    <tr>\n",
       "      <th>50%</th>\n",
       "      <td>815.000000</td>\n",
       "      <td>245.416130</td>\n",
       "      <td>136.000000</td>\n",
       "      <td>4.000000</td>\n",
       "      <td>27.060000</td>\n",
       "      <td>10.000000</td>\n",
       "      <td>2049.000000</td>\n",
       "      <td>7.000000</td>\n",
       "      <td>7608.000000</td>\n",
       "      <td>2456.000000</td>\n",
       "      <td>0.421525</td>\n",
       "      <td>1.000000</td>\n",
       "      <td>1.000000</td>\n",
       "      <td>1.000000</td>\n",
       "      <td>0.000000</td>\n",
       "      <td>0.000000</td>\n",
       "      <td>0.000000</td>\n",
       "    </tr>\n",
       "    <tr>\n",
       "      <th>75%</th>\n",
       "      <td>2700.000000</td>\n",
       "      <td>376.080598</td>\n",
       "      <td>528.000000</td>\n",
       "      <td>12.000000</td>\n",
       "      <td>34.910000</td>\n",
       "      <td>14.000000</td>\n",
       "      <td>7815.000000</td>\n",
       "      <td>8.000000</td>\n",
       "      <td>30141.000000</td>\n",
       "      <td>3553.000000</td>\n",
       "      <td>1.099366</td>\n",
       "      <td>5.000000</td>\n",
       "      <td>1.000000</td>\n",
       "      <td>1.000000</td>\n",
       "      <td>1.000000</td>\n",
       "      <td>1.000000</td>\n",
       "      <td>1.000000</td>\n",
       "    </tr>\n",
       "    <tr>\n",
       "      <th>max</th>\n",
       "      <td>13600.000000</td>\n",
       "      <td>597.301123</td>\n",
       "      <td>2588.000000</td>\n",
       "      <td>59.000000</td>\n",
       "      <td>74.370000</td>\n",
       "      <td>54.000000</td>\n",
       "      <td>41978.000000</td>\n",
       "      <td>16.000000</td>\n",
       "      <td>173714.000000</td>\n",
       "      <td>15063.000000</td>\n",
       "      <td>17.891817</td>\n",
       "      <td>349.000000</td>\n",
       "      <td>1.000000</td>\n",
       "      <td>1.000000</td>\n",
       "      <td>1.000000</td>\n",
       "      <td>1.000000</td>\n",
       "      <td>1.000000</td>\n",
       "    </tr>\n",
       "  </tbody>\n",
       "</table>\n",
       "</div>"
      ],
      "text/plain": [
       "              claps  days_since_publication         fans  num_responses  \\\n",
       "count    133.000000              133.000000   133.000000     133.000000   \n",
       "mean    1815.263158              248.407273   352.052632       7.045113   \n",
       "std     2449.074661              179.370879   479.060117       9.056108   \n",
       "min        0.000000                1.218629     0.000000       0.000000   \n",
       "25%      121.000000               74.543822    23.000000       0.000000   \n",
       "50%      815.000000              245.416130   136.000000       4.000000   \n",
       "75%     2700.000000              376.080598   528.000000      12.000000   \n",
       "max    13600.000000              597.301123  2588.000000      59.000000   \n",
       "\n",
       "       read_ratio   read_time         reads  title_word_count          views  \\\n",
       "count  133.000000  133.000000    133.000000        133.000000     133.000000   \n",
       "mean    29.074662   12.917293   6336.300752          7.127820   23404.030075   \n",
       "std     12.417670    9.510795   9007.284726          3.158475   33995.636496   \n",
       "min      8.110000    1.000000      1.000000          2.000000       3.000000   \n",
       "25%     20.020000    8.000000    363.000000          5.000000    1375.000000   \n",
       "50%     27.060000   10.000000   2049.000000          7.000000    7608.000000   \n",
       "75%     34.910000   14.000000   7815.000000          8.000000   30141.000000   \n",
       "max     74.370000   54.000000  41978.000000         16.000000  173714.000000   \n",
       "\n",
       "         word_count  claps_per_word  editing_days  <tag>Education  \\\n",
       "count    133.000000      133.000000    133.000000      133.000000   \n",
       "mean    3029.120301        0.957638     20.330827        0.729323   \n",
       "std     2393.414456        1.846756     74.111579        0.445989   \n",
       "min      163.000000        0.000000    -13.000000        0.000000   \n",
       "25%     1653.000000        0.052115      0.000000        0.000000   \n",
       "50%     2456.000000        0.421525      1.000000        1.000000   \n",
       "75%     3553.000000        1.099366      5.000000        1.000000   \n",
       "max    15063.000000       17.891817    349.000000        1.000000   \n",
       "\n",
       "       <tag>Data Science  <tag>Towards Data Science  <tag>Machine Learning  \\\n",
       "count         133.000000                 133.000000             133.000000   \n",
       "mean            0.609023                   0.436090               0.383459   \n",
       "std             0.489814                   0.497774               0.488067   \n",
       "min             0.000000                   0.000000               0.000000   \n",
       "25%             0.000000                   0.000000               0.000000   \n",
       "50%             1.000000                   0.000000               0.000000   \n",
       "75%             1.000000                   1.000000               1.000000   \n",
       "max             1.000000                   1.000000               1.000000   \n",
       "\n",
       "       <tag>Python  \n",
       "count   133.000000  \n",
       "mean      0.315789  \n",
       "std       0.466587  \n",
       "min       0.000000  \n",
       "25%       0.000000  \n",
       "50%       0.000000  \n",
       "75%       1.000000  \n",
       "max       1.000000  "
      ]
     },
     "execution_count": 10,
     "metadata": {},
     "output_type": "execute_result"
    }
   ],
   "source": [
    "df.describe()"
   ]
  },
  {
   "cell_type": "markdown",
   "metadata": {
    "colab_type": "text",
    "id": "sioLwvDDNjTm"
   },
   "source": [
    "## Interactive visualisations\n",
    "We'll now work through a few examples of interactive visualisations. We'll start with a simple filter to see how the interface works."
   ]
  },
  {
   "cell_type": "markdown",
   "metadata": {
    "colab_type": "text",
    "id": "jDXpCHzkKm08"
   },
   "source": [
    "### Example 1"
   ]
  },
  {
   "cell_type": "code",
   "execution_count": 11,
   "metadata": {
    "colab": {},
    "colab_type": "code",
    "id": "27JyA1OeNjTp"
   },
   "outputs": [],
   "source": [
    "from ipywidgets import interact, interact_manual, widgets"
   ]
  },
  {
   "cell_type": "markdown",
   "metadata": {
    "colab_type": "text",
    "id": "ctd60lPhNjTx"
   },
   "source": [
    "To make a function interactive, we need to use the ```@interact``` decorator. \n",
    "\n",
    "But wait, what's a decorator? \n",
    "\n",
    "Simply put, a decorator is a Python function that wraps around another declared function to enhance or augment its behaviour, like putting a ribbon around a present to make it look prettier as a gift. We won't go into the semantics of how to _create_ a decorator, but you can easily spot them above a function with the form ``@decorator_name``. \n",
    "For more information, see: https://realpython.com/primer-on-python-decorators/\n",
    "\n",
    "Consider the code below."
   ]
  },
  {
   "cell_type": "code",
   "execution_count": 12,
   "metadata": {
    "colab": {
     "base_uri": "https://localhost:8080/",
     "height": 17
    },
    "colab_type": "code",
    "executionInfo": {
     "elapsed": 38162,
     "status": "ok",
     "timestamp": 1574753239376,
     "user": {
      "displayName": "Jonathan Botha",
      "photoUrl": "",
      "userId": "05591136402895135214"
     },
     "user_tz": -120
    },
    "id": "PianhhDsNjT0",
    "outputId": "d89e9c9f-2db0-47be-9e5c-4e0b3ae9b3a4"
   },
   "outputs": [
    {
     "data": {
      "application/vnd.jupyter.widget-view+json": {
       "model_id": "e0047ffd20584f738a447f41a77a7fdb",
       "version_major": 2,
       "version_minor": 0
      },
      "text/plain": [
       "interactive(children=(Text(value='claps', description='column'), IntSlider(value=5000, description='x', max=15…"
      ]
     },
     "metadata": {},
     "output_type": "display_data"
    }
   ],
   "source": [
    "@interact\n",
    "def show_articles_more_than(column='claps', x=5000):\n",
    "    display(HTML(f'<h4>Showing articles with more than {x} {column}<h4>'))\n",
    "    display(df.loc[df[column] > x, ['title', 'claps', 'published_date', 'read_time', 'tags', 'views', 'reads']])"
   ]
  },
  {
   "cell_type": "markdown",
   "metadata": {
    "colab_type": "text",
    "id": "qxCG6ow4NjT8"
   },
   "source": [
    "The ```@interact``` decorator automatically inferred that we wanted a text box for the column and an interactive slider. This decorator makes it incredibly simple to add interactivity. "
   ]
  },
  {
   "cell_type": "markdown",
   "metadata": {
    "colab_type": "text",
    "id": "A6hQ7E40Ky4j"
   },
   "source": [
    "### Example 2"
   ]
  },
  {
   "cell_type": "markdown",
   "metadata": {
    "colab_type": "text",
    "id": "ntkHAlu4NjUG"
   },
   "source": [
    "Now we will add a dropdown menu to select which column to filter on while simultaneously adding limits for x. \n",
    "\n",
    "A dropdown menu can be useful when we need to enforce constraints on the interaction."
   ]
  },
  {
   "cell_type": "code",
   "execution_count": 13,
   "metadata": {
    "colab": {
     "base_uri": "https://localhost:8080/",
     "height": 17
    },
    "colab_type": "code",
    "executionInfo": {
     "elapsed": 38157,
     "status": "ok",
     "timestamp": 1574753239377,
     "user": {
      "displayName": "Jonathan Botha",
      "photoUrl": "",
      "userId": "05591136402895135214"
     },
     "user_tz": -120
    },
    "id": "-qOvFkvJNjT-",
    "outputId": "c3aaa575-54a2-4d1c-c414-6ae483aaba8e",
    "scrolled": true
   },
   "outputs": [
    {
     "data": {
      "application/vnd.jupyter.widget-view+json": {
       "model_id": "787fd68af7934cae9fcbe151d61ed0a9",
       "version_major": 2,
       "version_minor": 0
      },
      "text/plain": [
       "interactive(children=(IntSlider(value=25000, description='x', max=50000, min=10, step=10), Dropdown(descriptio…"
      ]
     },
     "metadata": {},
     "output_type": "display_data"
    }
   ],
   "source": [
    "@interact\n",
    "def show_titles_more_than(x=(10, 50000, 10),\n",
    "                          column=['read_time', 'views', 'reads']):\n",
    "    display(HTML(f'<h4>Showing articles with more than {x} {column}<h4>'))\n",
    "    display(df.loc[df[column] > x, ['title', 'published_date', 'read_time', 'tags', 'views', 'reads']])"
   ]
  },
  {
   "cell_type": "markdown",
   "metadata": {
    "colab_type": "text",
    "id": "WyQ7V3hDK4O9"
   },
   "source": [
    "### Example 3"
   ]
  },
  {
   "cell_type": "markdown",
   "metadata": {
    "colab_type": "text",
    "id": "oUyIhWZ4NjUP"
   },
   "source": [
    "Moving on to more sophisticated data relationships that may be interactively represented, we construct a widget that quickly finds the correlation between two columns in the dataset."
   ]
  },
  {
   "cell_type": "code",
   "execution_count": 14,
   "metadata": {
    "colab": {
     "base_uri": "https://localhost:8080/",
     "height": 17
    },
    "colab_type": "code",
    "executionInfo": {
     "elapsed": 38149,
     "status": "ok",
     "timestamp": 1574753239379,
     "user": {
      "displayName": "Jonathan Botha",
      "photoUrl": "",
      "userId": "05591136402895135214"
     },
     "user_tz": -120
    },
    "id": "WMBFt-PpNjUR",
    "outputId": "4d250364-e5d4-4eb9-db4b-256a8e6ea47c"
   },
   "outputs": [
    {
     "data": {
      "application/vnd.jupyter.widget-view+json": {
       "model_id": "9020c7e86d48401a92b9396efbaed85d",
       "version_major": 2,
       "version_minor": 0
      },
      "text/plain": [
       "interactive(children=(Dropdown(description='column1', options=('claps', 'days_since_publication', 'fans', 'num…"
      ]
     },
     "metadata": {},
     "output_type": "display_data"
    }
   ],
   "source": [
    "@interact\n",
    "def correlations(column1=list(df.select_dtypes('number').columns), \n",
    "                 column2=list(df.select_dtypes('number').columns)):\n",
    "    print(f\"Correlation: {df[column1].corr(df[column2])}\")"
   ]
  },
  {
   "cell_type": "markdown",
   "metadata": {},
   "source": [
    "Within the above code example, we need to specify Pandas columns that are of a numeric type using the code `df.select_dtypes('number')` because the correlation statistic is only defined between numeric values. "
   ]
  },
  {
   "cell_type": "markdown",
   "metadata": {
    "colab_type": "text",
    "id": "mZmS-8NJQSfY"
   },
   "source": [
    "### Example 4"
   ]
  },
  {
   "cell_type": "markdown",
   "metadata": {
    "colab_type": "text",
    "id": "VoO_HdhzNjUX"
   },
   "source": [
    "We can use the same basic approach to create interactive widgets for plots. This approach allows us to expand the capabilities of the powerful `plotly` visualisation library."
   ]
  },
  {
   "cell_type": "code",
   "execution_count": 15,
   "metadata": {
    "colab": {
     "base_uri": "https://localhost:8080/",
     "height": 17
    },
    "colab_type": "code",
    "executionInfo": {
     "elapsed": 38141,
     "status": "ok",
     "timestamp": 1574753239379,
     "user": {
      "displayName": "Jonathan Botha",
      "photoUrl": "",
      "userId": "05591136402895135214"
     },
     "user_tz": -120
    },
    "id": "C4WtQa8rNjUa",
    "outputId": "a828ff27-e974-44eb-969d-6f839d2a1eab"
   },
   "outputs": [
    {
     "data": {
      "application/vnd.jupyter.widget-view+json": {
       "model_id": "ef5ea7a57cdc42c2a49cadb7c5defabe",
       "version_major": 2,
       "version_minor": 0
      },
      "text/plain": [
       "interactive(children=(Dropdown(description='x', options=('claps', 'days_since_publication', 'fans', 'num_respo…"
      ]
     },
     "metadata": {},
     "output_type": "display_data"
    }
   ],
   "source": [
    "@interact\n",
    "def scatter_plot(x=list(df.select_dtypes('number').columns), \n",
    "                 y=list(df.select_dtypes('number').columns)[1:]):\n",
    "    if x == y:\n",
    "        print(f\"Please select separate variables for X and Y\")\n",
    "    else:\n",
    "        df.iplot(kind='scatter', x=x, y=y, mode='markers', \n",
    "                 xTitle=x.title(), yTitle=y.title(), title=f'{y.title()} vs {x.title()}')\n",
    "        ## If you are using Google Colab, comment out the above line of code and uncomment the lines below\n",
    "        #fig = px.scatter(df, x=x, y=y, title=f'{y.title()} vs {x.title()}')\n",
    "        #fig.show(renderer=\"colab\")"
   ]
  },
  {
   "cell_type": "markdown",
   "metadata": {
    "colab_type": "text",
    "id": "SowggjiJwEY0"
   },
   "source": [
    "### Example 5"
   ]
  },
  {
   "cell_type": "markdown",
   "metadata": {},
   "source": [
    "In a similar fashion to the previous example, we can create a customisable heatmap of correlations:"
   ]
  },
  {
   "cell_type": "code",
   "execution_count": 16,
   "metadata": {
    "colab": {
     "base_uri": "https://localhost:8080/",
     "height": 17
    },
    "colab_type": "code",
    "executionInfo": {
     "elapsed": 38135,
     "status": "ok",
     "timestamp": 1574753239380,
     "user": {
      "displayName": "Jonathan Botha",
      "photoUrl": "",
      "userId": "05591136402895135214"
     },
     "user_tz": -120
    },
    "id": "WLPhgAfXNjUo",
    "outputId": "d24ef704-b301-4f9f-aaa1-94d733e68c1d"
   },
   "outputs": [
    {
     "data": {
      "application/vnd.jupyter.widget-view+json": {
       "model_id": "3a175d11853245479dcc578b0d1749bc",
       "version_major": 2,
       "version_minor": 0
      },
      "text/plain": [
       "interactive(children=(Dropdown(description='colorscale', options=('Greys', 'YlGnBu', 'Greens', 'YlOrRd', 'Blue…"
      ]
     },
     "metadata": {},
     "output_type": "display_data"
    }
   ],
   "source": [
    "cscales = ['Greys', 'YlGnBu', 'Greens', 'YlOrRd', 'Bluered', 'RdBu',\n",
    "            'Reds', 'Blues', 'Picnic', 'Rainbow', 'Portland', 'Jet',\n",
    "            'Hot', 'Blackbody', 'Earth', 'Electric', 'Viridis', 'Cividis']\n",
    "\n",
    "# We use the Figure Factory module of Plotly, which\n",
    "# defines many unique and powerful plots to be used\n",
    "# in Python. \n",
    "# For more info, see: https://plot.ly/python/figure-factory-subplots/\n",
    "import plotly.figure_factory as ff\n",
    "\n",
    "corrs = df.corr(numeric_only=True)\n",
    "\n",
    "@interact\n",
    "def plot_corrs(colorscale=cscales):\n",
    "    figure = ff.create_annotated_heatmap(z = corrs.round(2).values, \n",
    "                                     x =list(corrs.columns), \n",
    "                                     y=list(corrs.index), \n",
    "                                     colorscale=colorscale,\n",
    "                                     annotation_text=corrs.round(2).values)\n",
    "    iplot(figure)\n",
    "    ## If you are using Google Colab, comment out the above line of code and uncomment the line below\n",
    "    #figure.show(renderer=\"colab\")"
   ]
  },
  {
   "cell_type": "markdown",
   "metadata": {
    "colab_type": "text",
    "id": "AmxkRXUVLWYJ"
   },
   "source": [
    "### Example 6"
   ]
  },
  {
   "cell_type": "markdown",
   "metadata": {},
   "source": [
    "Interaction can also be extremely useful when we want to try and view various configurations for a plot that we are trying to produce. \n",
    "\n",
    "The following code allows us to add some options to control the colour scheme of a given Plotly chart. Here we call the `@interact_manual` decorator, which allows us to select multiple variables before our chart is updated. "
   ]
  },
  {
   "cell_type": "code",
   "execution_count": 17,
   "metadata": {
    "colab": {
     "base_uri": "https://localhost:8080/",
     "height": 17
    },
    "colab_type": "code",
    "executionInfo": {
     "elapsed": 38828,
     "status": "ok",
     "timestamp": 1574753240088,
     "user": {
      "displayName": "Jonathan Botha",
      "photoUrl": "",
      "userId": "05591136402895135214"
     },
     "user_tz": -120
    },
    "id": "8JiGyFamNjU7",
    "outputId": "5bc9e034-757f-425f-a5ff-f6480d7f16db"
   },
   "outputs": [
    {
     "data": {
      "application/vnd.jupyter.widget-view+json": {
       "model_id": "d08594d74c90414d90227bee06b15c6e",
       "version_major": 2,
       "version_minor": 0
      },
      "text/plain": [
       "interactive(children=(Dropdown(description='x', options=('claps', 'days_since_publication', 'fans', 'num_respo…"
      ]
     },
     "metadata": {},
     "output_type": "display_data"
    }
   ],
   "source": [
    "@interact_manual\n",
    "def scatter_plot(x=list(df.select_dtypes('number').columns), \n",
    "                 y=list(df.select_dtypes('number').columns)[1:],\n",
    "                 theme=list(cf.themes.THEMES.keys()), \n",
    "                 colorscale=list(cf.colors._scales_names.keys())):\n",
    "    \n",
    "    if x == y:\n",
    "        print(f\"Please select separate variables for X and Y\")\n",
    "    else:\n",
    "        df.iplot(kind='scatter', x=x, y=y, mode='markers', \n",
    "                 xTitle=x.title(), yTitle=y.title(), \n",
    "                 text='title',\n",
    "                 title=f'{y.title()} vs {x.title()}',\n",
    "                theme=theme, colorscale=colorscale)\n",
    "        ## If you are using Google Colab, comment out the above line of code and uncomment the line below\n",
    "        #fig = px.scatter(df, x=x, y=y, title=f'{y.title()} vs {x.title()}')\n",
    "        #fig.show(renderer=\"colab\")"
   ]
  },
  {
   "cell_type": "markdown",
   "metadata": {
    "colab_type": "text",
    "id": "p_osdia6OV2G"
   },
   "source": [
    "### Example 7"
   ]
  },
  {
   "cell_type": "markdown",
   "metadata": {
    "colab_type": "text",
    "id": "vx4psP6FNjVL"
   },
   "source": [
    "The decorator ```@interact``` is not the only way to use widgets. \n",
    "\n",
    "Read through the following example to figure out how else we can use widgets."
   ]
  },
  {
   "cell_type": "code",
   "execution_count": 18,
   "metadata": {
    "colab": {},
    "colab_type": "code",
    "id": "k_7lLT0jNjVM"
   },
   "outputs": [],
   "source": [
    "df.set_index('published_date', inplace=True)"
   ]
  },
  {
   "cell_type": "code",
   "execution_count": 19,
   "metadata": {
    "colab": {
     "base_uri": "https://localhost:8080/",
     "height": 17
    },
    "colab_type": "code",
    "executionInfo": {
     "elapsed": 40429,
     "status": "ok",
     "timestamp": 1574753241706,
     "user": {
      "displayName": "Jonathan Botha",
      "photoUrl": "",
      "userId": "05591136402895135214"
     },
     "user_tz": -120
    },
    "id": "pDihhzPoNjVR",
    "outputId": "afc40dd5-1578-4a03-e939-0aae5b10de9a"
   },
   "outputs": [
    {
     "data": {
      "application/vnd.jupyter.widget-view+json": {
       "model_id": "b32ac6c5d19c41459c9fca2d5688db5b",
       "version_major": 2,
       "version_minor": 0
      },
      "text/plain": [
       "interactive(children=(DatePicker(value=Timestamp('2018-01-01 00:00:00'), description='start_date'), DatePicker…"
      ]
     },
     "metadata": {},
     "output_type": "display_data"
    }
   ],
   "source": [
    "def print_articles_published(start_date, end_date):\n",
    "    start_date = pd.Timestamp(start_date)\n",
    "    end_date = pd.Timestamp(end_date)\n",
    "    stat_df = df.loc[(df.index >= start_date) & (df.index <= end_date)].copy()\n",
    "    total_words = stat_df['word_count'].sum()\n",
    "    total_read_time = stat_df['read_time'].sum()\n",
    "    num_articles = len(stat_df)\n",
    "    print(f'According to our dataset, published by Medium.com, there are {num_articles} articles between {start_date.date()} and {end_date.date()}.')\n",
    "    print(f'These articles totalled {total_words:,} words and {total_read_time/60:.2f} hours to read.')\n",
    "    \n",
    "_ = interact(print_articles_published,\n",
    "             start_date=widgets.DatePicker(value=pd.to_datetime('2018-01-01')),\n",
    "             end_date=widgets.DatePicker(value=pd.to_datetime('2019-01-01')))"
   ]
  },
  {
   "cell_type": "markdown",
   "metadata": {
    "colab_type": "text",
    "id": "Ezl7N2_HOnaJ"
   },
   "source": [
    "### Example 8"
   ]
  },
  {
   "cell_type": "markdown",
   "metadata": {
    "colab_type": "text",
    "id": "dHR4eu9QNjVY"
   },
   "source": [
    "For our final example, we use the `Dropdown` and `DatePicker` widgets to plot one column cumulatively up to a certain time. "
   ]
  },
  {
   "cell_type": "code",
   "execution_count": 20,
   "metadata": {
    "colab": {
     "base_uri": "https://localhost:8080/",
     "height": 17
    },
    "colab_type": "code",
    "executionInfo": {
     "elapsed": 40423,
     "status": "ok",
     "timestamp": 1574753241708,
     "user": {
      "displayName": "Jonathan Botha",
      "photoUrl": "",
      "userId": "05591136402895135214"
     },
     "user_tz": -120
    },
    "id": "eTyJSw94NjVa",
    "outputId": "20ea2928-7460-4683-bc0a-533be8c82c97",
    "scrolled": true
   },
   "outputs": [
    {
     "data": {
      "application/vnd.jupyter.widget-view+json": {
       "model_id": "9be4e0b280ba44e48293d25dd3b3156c",
       "version_major": 2,
       "version_minor": 0
      },
      "text/plain": [
       "interactive(children=(Dropdown(description='column', options=('claps', 'days_since_publication', 'fans', 'num_…"
      ]
     },
     "metadata": {},
     "output_type": "display_data"
    }
   ],
   "source": [
    "def plot_up_to(column, date):\n",
    "    date = pd.Timestamp(date)\n",
    "    plot_df = df.loc[df.index <= date].copy()\n",
    "    plot_df[column].cumsum().iplot(mode='markers+lines', \n",
    "                                   xTitle='published date',\n",
    "                                   yTitle=column, \n",
    "                                  title=f'Cumulative {column.title()} Until {date.date()}')\n",
    "    \n",
    "_ = interact(plot_up_to, column=widgets.Dropdown(options=list(df.select_dtypes('number').columns)), \n",
    "             date = widgets.DatePicker(value=pd.to_datetime('2019-01-01')))"
   ]
  },
  {
   "cell_type": "markdown",
   "metadata": {
    "colab_type": "text",
    "id": "l9E2cGc9NjVf"
   },
   "source": [
    "## Summary"
   ]
  },
  {
   "cell_type": "markdown",
   "metadata": {
    "colab_type": "text",
    "id": "-4sO_84lNjVh"
   },
   "source": [
    "Jupyter Notebook is a great data exploration and analysis environment. Using tools like notebook extensions and interactive widgets makes our job as data-driven storytellers even more efficient. Widgets are powerful tools that allow us to make our data more interactive and, therefore, more accessible to non-data scientists."
   ]
  },
  {
   "cell_type": "markdown",
   "metadata": {},
   "source": [
    "<div align=\"center\" style=\" font-size: 80%; text-align: center; margin: 0 auto\">\n",
    "<img src=\"https://raw.githubusercontent.com/Explore-AI/Pictures/master/ExploreAI_logos/EAI_Blue_Dark.png\"  style=\"width:200px\";/>\n",
    "</div>"
   ]
  }
 ],
 "metadata": {
  "colab": {
   "name": "V2_Interactive_Jupyter_Notebooks.ipynb",
   "provenance": []
  },
  "kernelspec": {
   "display_name": "Python 3 (ipykernel)",
   "language": "python",
   "name": "python3"
  },
  "language_info": {
   "codemirror_mode": {
    "name": "ipython",
    "version": 3
   },
   "file_extension": ".py",
   "mimetype": "text/x-python",
   "name": "python",
   "nbconvert_exporter": "python",
   "pygments_lexer": "ipython3",
   "version": "3.10.9"
  },
  "toc": {
   "base_numbering": 1,
   "nav_menu": {},
   "number_sections": true,
   "sideBar": true,
   "skip_h1_title": false,
   "title_cell": "Table of Contents",
   "title_sidebar": "Contents",
   "toc_cell": false,
   "toc_position": {},
   "toc_section_display": true,
   "toc_window_display": false
  },
  "varInspector": {
   "cols": {
    "lenName": 16,
    "lenType": 16,
    "lenVar": 40
   },
   "kernels_config": {
    "python": {
     "delete_cmd_postfix": "",
     "delete_cmd_prefix": "del ",
     "library": "var_list.py",
     "varRefreshCmd": "print(var_dic_list())"
    },
    "r": {
     "delete_cmd_postfix": ") ",
     "delete_cmd_prefix": "rm(",
     "library": "var_list.r",
     "varRefreshCmd": "cat(var_dic_list()) "
    }
   },
   "types_to_exclude": [
    "module",
    "function",
    "builtin_function_or_method",
    "instance",
    "_Feature"
   ],
   "window_display": false
  }
 },
 "nbformat": 4,
 "nbformat_minor": 1
}
